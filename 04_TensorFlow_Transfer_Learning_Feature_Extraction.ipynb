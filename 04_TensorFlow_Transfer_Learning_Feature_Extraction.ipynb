{
  "nbformat": 4,
  "nbformat_minor": 0,
  "metadata": {
    "colab": {
      "name": "04_TensorFlow_Transfer_Learning_Feature_Extraction.ipynb",
      "provenance": []
    },
    "kernelspec": {
      "name": "python3",
      "display_name": "Python 3"
    },
    "language_info": {
      "name": "python"
    },
    "accelerator": "GPU"
  },
  "cells": [
    {
      "cell_type": "markdown",
      "metadata": {
        "id": "gYSBQzpBnHI_"
      },
      "source": [
        "# Transfer Learning with TensorFlow Part 1: Feature Extraction\n",
        "\n",
        "Transfer learning is leveraging a working model's existing architecture and learned patterns for our own problem.\n",
        "\n",
        "There are two main benefits:\n",
        "1. Can leverage an existing neural network architecture proven to work on problems similar to our own.\n",
        "2. Can leverage a working neural network architecture which has already learned patterns on similar data to our own, then we can adapt those patterns to our own data."
      ]
    },
    {
      "cell_type": "code",
      "metadata": {
        "colab": {
          "base_uri": "https://localhost:8080/"
        },
        "id": "pLW1QVyLQ_qB",
        "outputId": "c851cbfb-9717-4ce0-a227-34a8dc9ced50"
      },
      "source": [
        "# Are we using a GPU?\n",
        "!nvidia-smi"
      ],
      "execution_count": 1,
      "outputs": [
        {
          "output_type": "stream",
          "name": "stdout",
          "text": [
            "Mon Sep 20 06:13:27 2021       \n",
            "+-----------------------------------------------------------------------------+\n",
            "| NVIDIA-SMI 470.63.01    Driver Version: 460.32.03    CUDA Version: 11.2     |\n",
            "|-------------------------------+----------------------+----------------------+\n",
            "| GPU  Name        Persistence-M| Bus-Id        Disp.A | Volatile Uncorr. ECC |\n",
            "| Fan  Temp  Perf  Pwr:Usage/Cap|         Memory-Usage | GPU-Util  Compute M. |\n",
            "|                               |                      |               MIG M. |\n",
            "|===============================+======================+======================|\n",
            "|   0  Tesla K80           Off  | 00000000:00:04.0 Off |                    0 |\n",
            "| N/A   36C    P8    25W / 149W |      0MiB / 11441MiB |      0%      Default |\n",
            "|                               |                      |                  N/A |\n",
            "+-------------------------------+----------------------+----------------------+\n",
            "                                                                               \n",
            "+-----------------------------------------------------------------------------+\n",
            "| Processes:                                                                  |\n",
            "|  GPU   GI   CI        PID   Type   Process name                  GPU Memory |\n",
            "|        ID   ID                                                   Usage      |\n",
            "|=============================================================================|\n",
            "|  No running processes found                                                 |\n",
            "+-----------------------------------------------------------------------------+\n"
          ]
        }
      ]
    },
    {
      "cell_type": "markdown",
      "metadata": {
        "id": "f7S_FZ3AoZDl"
      },
      "source": [
        "## Downloading and becoming one with the data"
      ]
    },
    {
      "cell_type": "code",
      "metadata": {
        "colab": {
          "base_uri": "https://localhost:8080/"
        },
        "id": "BbB6JJ-WoVtA",
        "outputId": "dc277d22-282a-4feb-f68e-1bc0782e7a24"
      },
      "source": [
        "# Get data (10% of 10 food classes from Food101)\n",
        "import zipfile\n",
        "\n",
        "# Download the data\n",
        "!wget https://storage.googleapis.com/ztm_tf_course/food_vision/10_food_classes_10_percent.zip\n",
        "\n",
        "# Unzip the downloaded file \n",
        "zip_ref = zipfile.ZipFile('10_food_classes_10_percent.zip')\n",
        "zip_ref.extractall()\n",
        "zip_ref.close()"
      ],
      "execution_count": 2,
      "outputs": [
        {
          "output_type": "stream",
          "name": "stdout",
          "text": [
            "--2021-09-20 06:13:28--  https://storage.googleapis.com/ztm_tf_course/food_vision/10_food_classes_10_percent.zip\n",
            "Resolving storage.googleapis.com (storage.googleapis.com)... 108.177.121.128, 108.177.120.128, 142.250.128.128, ...\n",
            "Connecting to storage.googleapis.com (storage.googleapis.com)|108.177.121.128|:443... connected.\n",
            "HTTP request sent, awaiting response... 200 OK\n",
            "Length: 168546183 (161M) [application/zip]\n",
            "Saving to: ‘10_food_classes_10_percent.zip’\n",
            "\n",
            "10_food_classes_10_ 100%[===================>] 160.74M   171MB/s    in 0.9s    \n",
            "\n",
            "2021-09-20 06:13:29 (171 MB/s) - ‘10_food_classes_10_percent.zip’ saved [168546183/168546183]\n",
            "\n"
          ]
        }
      ]
    },
    {
      "cell_type": "code",
      "metadata": {
        "colab": {
          "base_uri": "https://localhost:8080/"
        },
        "id": "7bwAL-BQpZHj",
        "outputId": "3c592ad6-6d66-48c1-86cd-5aa64811f2aa"
      },
      "source": [
        "# How many images in each folder?\n",
        "import os\n",
        "\n",
        "# Walk through 10 percent data directory and list number of files\n",
        "for dirpath, dirnames, filenames in os.walk('10_food_classes_10_percent'):\n",
        "  print(f\"There are {len(dirnames)} directories and {len(filenames)} images in '{dirpath}'.\")"
      ],
      "execution_count": 3,
      "outputs": [
        {
          "output_type": "stream",
          "name": "stdout",
          "text": [
            "There are 2 directories and 0 images in '10_food_classes_10_percent'.\n",
            "There are 10 directories and 0 images in '10_food_classes_10_percent/train'.\n",
            "There are 0 directories and 75 images in '10_food_classes_10_percent/train/grilled_salmon'.\n",
            "There are 0 directories and 75 images in '10_food_classes_10_percent/train/ice_cream'.\n",
            "There are 0 directories and 75 images in '10_food_classes_10_percent/train/ramen'.\n",
            "There are 0 directories and 75 images in '10_food_classes_10_percent/train/pizza'.\n",
            "There are 0 directories and 75 images in '10_food_classes_10_percent/train/chicken_wings'.\n",
            "There are 0 directories and 75 images in '10_food_classes_10_percent/train/sushi'.\n",
            "There are 0 directories and 75 images in '10_food_classes_10_percent/train/chicken_curry'.\n",
            "There are 0 directories and 75 images in '10_food_classes_10_percent/train/steak'.\n",
            "There are 0 directories and 75 images in '10_food_classes_10_percent/train/fried_rice'.\n",
            "There are 0 directories and 75 images in '10_food_classes_10_percent/train/hamburger'.\n",
            "There are 10 directories and 0 images in '10_food_classes_10_percent/test'.\n",
            "There are 0 directories and 250 images in '10_food_classes_10_percent/test/grilled_salmon'.\n",
            "There are 0 directories and 250 images in '10_food_classes_10_percent/test/ice_cream'.\n",
            "There are 0 directories and 250 images in '10_food_classes_10_percent/test/ramen'.\n",
            "There are 0 directories and 250 images in '10_food_classes_10_percent/test/pizza'.\n",
            "There are 0 directories and 250 images in '10_food_classes_10_percent/test/chicken_wings'.\n",
            "There are 0 directories and 250 images in '10_food_classes_10_percent/test/sushi'.\n",
            "There are 0 directories and 250 images in '10_food_classes_10_percent/test/chicken_curry'.\n",
            "There are 0 directories and 250 images in '10_food_classes_10_percent/test/steak'.\n",
            "There are 0 directories and 250 images in '10_food_classes_10_percent/test/fried_rice'.\n",
            "There are 0 directories and 250 images in '10_food_classes_10_percent/test/hamburger'.\n"
          ]
        }
      ]
    },
    {
      "cell_type": "markdown",
      "metadata": {
        "id": "Ph-wRBN3qxdd"
      },
      "source": [
        "## Creating data loaders (preparing the data)\n",
        "\n",
        "We'll use the `ImageDataGenerator` class to load in our images in batches."
      ]
    },
    {
      "cell_type": "code",
      "metadata": {
        "colab": {
          "base_uri": "https://localhost:8080/"
        },
        "id": "4DGbeh8eqZcX",
        "outputId": "06c0ea86-1326-4cdd-ae8c-0b17c8f3a24c"
      },
      "source": [
        "# Setup data inputs\n",
        "from tensorflow.keras.preprocessing.image import ImageDataGenerator\n",
        "\n",
        "IMAGE_SHAPE = (224, 224)\n",
        "BATCH_SIZE = 32 \n",
        "\n",
        "train_dir = '10_food_classes_10_percent/train/'\n",
        "test_dir = '10_food_classes_10_percent/test/'\n",
        "\n",
        "train_datagen = ImageDataGenerator(rescale=1/255.)\n",
        "test_datagen = ImageDataGenerator(rescale=1/255.)\n",
        "\n",
        "print('Training images:')\n",
        "train_data_10_percent = train_datagen.flow_from_directory(train_dir,\n",
        "                                                          target_size=IMAGE_SHAPE,\n",
        "                                                          batch_size=BATCH_SIZE,\n",
        "                                                          class_mode='categorical')\n",
        "\n",
        "print('Testing images:')\n",
        "test_data = test_datagen.flow_from_directory(test_dir,\n",
        "                                                        target_size=IMAGE_SHAPE,\n",
        "                                                        batch_size=BATCH_SIZE,\n",
        "                                                        class_mode='categorical')"
      ],
      "execution_count": 17,
      "outputs": [
        {
          "output_type": "stream",
          "name": "stdout",
          "text": [
            "Training images:\n",
            "Found 750 images belonging to 10 classes.\n",
            "Testing images:\n",
            "Found 2500 images belonging to 10 classes.\n"
          ]
        }
      ]
    },
    {
      "cell_type": "markdown",
      "metadata": {
        "id": "7gMuC_aJuNpi"
      },
      "source": [
        "## Setting up callbacks (things to run whilst our model trains)\n",
        "\n",
        "Callbacks are extra functionality you can add to your models to be performed during or after training. Some of the most popular callbacks:\n",
        "\n",
        "* Tracking experiments with the TensorBoard callback\n",
        "* Model checkpoint with the ModelCheckpoint callback\n",
        "* Stopping a model form training (before it trains too long and overfits) with the EarlyStopping callback"
      ]
    },
    {
      "cell_type": "code",
      "metadata": {
        "id": "LAX3kRmot42A"
      },
      "source": [
        "# Create TensorBoard callback (functionized because we need to create a new one for each model)\n",
        "import datetime \n",
        "\n",
        "def create_tensorboard_callback(dir_name, experiment_name):\n",
        "  log_dir = dir_name + '/' + experiment_name + '/' + datetime.datetime.now().strftime('%Y%m%d-%H%M%D')\n",
        "  tensorboard_callback = tf.keras.callbacks.TensorBoard(log_dir=log_dir)\n",
        "  print(f'Saving TensorBoard log files to : {log_dir}')\n",
        "  return tensorboard_callback"
      ],
      "execution_count": 19,
      "outputs": []
    },
    {
      "cell_type": "markdown",
      "metadata": {
        "id": "ptLIzLQcxq3W"
      },
      "source": [
        ">**Note:** You can customize the directory where your TensorBoard logs (model training metrics) het saved to whatever you like.\n",
        "The `log_dir` parameter we've created abovei is only one option."
      ]
    },
    {
      "cell_type": "markdown",
      "metadata": {
        "id": "qZyyDZKuyj43"
      },
      "source": [
        "## Creating models using TensorFlow Hub \n",
        "\n",
        "In the past we've used TensorFlow to create our own models layers by layers from scratch.\n",
        "\n",
        "Now we're going to do a similar process, except the majority of our model's layers are going to come from TensorFlow Hub.\n",
        "\n",
        "We can access pretrained models on: https://tfhub.dev/\n",
        "\n",
        "Browsing the TensorFlow Hub page and sorting for image classification, we found the following feature feature vector model link: https://tfhub.dev/tensorflow/efficientnet/b0/feature-vector/1"
      ]
    },
    {
      "cell_type": "code",
      "metadata": {
        "id": "Ioos689-xp90"
      },
      "source": [
        "# Let's compare the following two models\n",
        "resnet_url = 'https://tfhub.dev/google/imagenet/resnet_v2_50/feature_vector/5'\n",
        "\n",
        "efficientnet_url = 'https://tfhub.dev/tensorflow/efficientnet/b0/feature-vector/1'"
      ],
      "execution_count": 6,
      "outputs": []
    },
    {
      "cell_type": "code",
      "metadata": {
        "id": "rg2HXnIu3ceJ"
      },
      "source": [
        "# Import dependencies\n",
        "import tensorflow as tf\n",
        "import tensorflow_hub as hub\n",
        "from tensorflow.keras import layers"
      ],
      "execution_count": 7,
      "outputs": []
    },
    {
      "cell_type": "code",
      "metadata": {
        "id": "MTq1kzXS38T2"
      },
      "source": [
        "# Let's make a create_model() function to create a model from a URL\n",
        "def create_model(model_url, num_classes=10):\n",
        "  \"\"\"\n",
        "  Take a TensorFlow Hub URL and creates a Keras Sequential model with it.\n",
        "\n",
        "  Args:\n",
        "    model_url (str): A TensorFlow Hub feature extration URL.\n",
        "    num_classes (int): Number of output neurons in the output layer.\n",
        "    should be equal to number of target classes, default 10.\n",
        "\n",
        "  Return:\n",
        "    An uncompiled Keras Sequential model with model_url as feature extractor\n",
        "    layer and Dense output layer with num_classes output neurons.\n",
        "  \"\"\"\n",
        "  # Download the pretrained model and save it as a Keras layer\n",
        "  feature_extractor_layer = hub.KerasLayer(model_url,\n",
        "                                           trainable=False, # freeze the already learned patterns\n",
        "                                           name='feature_extraction_layer',\n",
        "                                           input_shape=IMAGE_SHAPE+(3,)) \n",
        "  \n",
        "  # Create our own model\n",
        "  model = tf.keras.Sequential([\n",
        "    feature_extractor_layer,\n",
        "    layers.Dense(num_classes, activation='softmax', name='output_layer')                             \n",
        "  ])\n",
        "  \n",
        "  return model"
      ],
      "execution_count": 11,
      "outputs": []
    },
    {
      "cell_type": "markdown",
      "metadata": {
        "id": "fv3WBUem1_gq"
      },
      "source": [
        "### Creating and testing ResNet Tensorflow Hub Feature Extration model"
      ]
    },
    {
      "cell_type": "code",
      "metadata": {
        "id": "z-8o4N2u12re"
      },
      "source": [
        "# Create Resnet model\n",
        "resnet_model = create_model(resnet_url, \n",
        "                            num_classes=train_data_10_percent.num_classes)"
      ],
      "execution_count": 12,
      "outputs": []
    },
    {
      "cell_type": "code",
      "metadata": {
        "colab": {
          "base_uri": "https://localhost:8080/"
        },
        "id": "Y-heCieS3Gpy",
        "outputId": "53024dbe-dd2c-460d-970b-b56ef3e1f2a6"
      },
      "source": [
        "resnet_model.summary()"
      ],
      "execution_count": 13,
      "outputs": [
        {
          "output_type": "stream",
          "name": "stdout",
          "text": [
            "Model: \"sequential\"\n",
            "_________________________________________________________________\n",
            "Layer (type)                 Output Shape              Param #   \n",
            "=================================================================\n",
            "feature_extraction_layer (Ke (None, 2048)              23564800  \n",
            "_________________________________________________________________\n",
            "output_layer (Dense)         (None, 10)                20490     \n",
            "=================================================================\n",
            "Total params: 23,585,290\n",
            "Trainable params: 20,490\n",
            "Non-trainable params: 23,564,800\n",
            "_________________________________________________________________\n"
          ]
        }
      ]
    },
    {
      "cell_type": "code",
      "metadata": {
        "id": "vfXWxAfp3fnO"
      },
      "source": [
        "# Compile our resnet model\n",
        "resnet_model.compile(loss='categorical_crossentropy',\n",
        "                     optimizer=tf.keras.optimizers.Adam(),\n",
        "                     metrics=['accuracy'])"
      ],
      "execution_count": 23,
      "outputs": []
    },
    {
      "cell_type": "code",
      "metadata": {
        "colab": {
          "base_uri": "https://localhost:8080/"
        },
        "id": "qgOHvcQa3Xdr",
        "outputId": "47e5d794-abf7-4020-a769-20ab331000e5"
      },
      "source": [
        "# Let's fit our model ResNet model to the data (10 percent of 10 classes)\n",
        "resnet_history = resnet_model.fit(train_data_10_percent,\n",
        "                                  epochs=5,\n",
        "                                  steps_per_epoch=len(train_data_10_percent),\n",
        "                                  validation_data=test_data,\n",
        "                                  validation_steps=len(test_data),\n",
        "                                  callbacks=[create_tensorboard_callback(\n",
        "                                      dir_name='tensorflow_hub',\n",
        "                                      experiment_name='resnet50v2'\n",
        "                                  )])"
      ],
      "execution_count": 22,
      "outputs": [
        {
          "output_type": "stream",
          "name": "stdout",
          "text": [
            "Saving TensorBoard log files to : tensorflow_hub/resnet50v2/20210920-063609/20/21\n",
            "Epoch 1/5\n",
            "24/24 [==============================] - 59s 1s/step - loss: 1.8304 - accuracy: 0.3933 - val_loss: 1.1429 - val_accuracy: 0.6460\n",
            "Epoch 2/5\n",
            "24/24 [==============================] - 21s 887ms/step - loss: 0.8586 - accuracy: 0.7493 - val_loss: 0.8314 - val_accuracy: 0.7344\n",
            "Epoch 3/5\n",
            "24/24 [==============================] - 21s 884ms/step - loss: 0.6065 - accuracy: 0.8307 - val_loss: 0.7401 - val_accuracy: 0.7608\n",
            "Epoch 4/5\n",
            "24/24 [==============================] - 21s 887ms/step - loss: 0.4618 - accuracy: 0.8813 - val_loss: 0.6876 - val_accuracy: 0.7760\n",
            "Epoch 5/5\n",
            "24/24 [==============================] - 21s 886ms/step - loss: 0.3590 - accuracy: 0.9280 - val_loss: 0.6670 - val_accuracy: 0.7796\n"
          ]
        }
      ]
    },
    {
      "cell_type": "markdown",
      "metadata": {
        "id": "C-FQz8_W76OP"
      },
      "source": [
        "Wow!\n",
        "\n",
        "That. Is. Incredible. Our transfer learning feature extractor model out performed ALL of the previous models we built by hand... (substantially) and in a quicker trainin time AND with only 10% of the training examples."
      ]
    },
    {
      "cell_type": "code",
      "metadata": {
        "id": "tCxBenFP6Amn"
      },
      "source": [
        "# Let's create a function to plot our loss curves...\n",
        "# Tidbit: you could put a funtion like this into a script called \"helper.py\" and import it when you need it...\n",
        "import matplotlib.pyplot as plt\n",
        "\n",
        "# Plot the validation and training curves\n",
        "def plot_loss_curves(history):\n",
        "  \"\"\"\n",
        "  Returns separate loss curves for training and validation metrics.\n",
        "\n",
        "  Args:\n",
        "    history: TensorFlow History object.\n",
        "\n",
        "  Returns:\n",
        "    Plots of training/validation loss and accuracy metrics.\n",
        "  \"\"\"\n",
        "  loss = history.history['loss']\n",
        "  val_loss = history.history['val_loss']\n",
        "\n",
        "  accuracy = history.history['accuracy']\n",
        "  val_accuracy = history.history['val_accuracy']\n",
        "\n",
        "  epochs = range(len(history.history['loss']))\n",
        "\n",
        "  # Plot loss\n",
        "  plt.plot(epochs, loss, label='training_loss')\n",
        "  plt.plot(epochs, val_loss, label='val_loss')\n",
        "  plt.title('Loss')\n",
        "  plt.xlabel('Epochs')\n",
        "  plt.legend()\n",
        "\n",
        "  # Plot accuracy\n",
        "  plt.figure()\n",
        "  plt.plot(epochs, accuracy, label='training_accuracy')\n",
        "  plt.plot(epochs, val_accuracy, label='val_accuracy')\n",
        "  plt.title('Accuracy')\n",
        "  plt.xlabel('Epochs')\n",
        "  plt.legend();"
      ],
      "execution_count": 24,
      "outputs": []
    },
    {
      "cell_type": "code",
      "metadata": {
        "colab": {
          "base_uri": "https://localhost:8080/",
          "height": 573
        },
        "id": "Q3OssswvAN1O",
        "outputId": "a8356054-c86b-4f6c-f1c0-f7042c2bae3b"
      },
      "source": [
        "plot_loss_curves(resnet_history)"
      ],
      "execution_count": 25,
      "outputs": [
        {
          "output_type": "display_data",
          "data": {
            "image/png": "[encoded data removed]",
            "text/plain": [
              "<Figure size 432x288 with 1 Axes>"
            ]
          },
          "metadata": {
            "needs_background": "light"
          }
        },
        {
          "output_type": "display_data",
          "data": {
            "image/png": "[encoded data removed]",
            "text/plain": [
              "<Figure size 432x288 with 1 Axes>"
            ]
          },
          "metadata": {
            "needs_background": "light"
          }
        }
      ]
    },
    {
      "cell_type": "markdown",
      "metadata": {
        "id": "T-2EDsjSDsLn"
      },
      "source": [
        "### Creating and testing EfficientNetB0 Tensorflow Hub Feature Extration model"
      ]
    },
    {
      "cell_type": "code",
      "metadata": {
        "colab": {
          "base_uri": "https://localhost:8080/"
        },
        "id": "7vHshcwYDFJR",
        "outputId": "736ca72d-ad58-453d-ea29-f7866d097208"
      },
      "source": [
        "# Create EfficientNetB0 feature extractor model\n",
        "efficientnet_model = create_model(model_url=efficientnet_url,\n",
        "                                  num_classes=train_data_10_percent.num_classes)\n",
        "\n",
        "# Compile EfficientNet model\n",
        "efficientnet_model.compile(loss='categorical_crossentropy',\n",
        "                           optimizer=tf.keras.optimizers.Adam(),\n",
        "                           metrics=['accuracy'])\n",
        "\n",
        "# Fit EfficientNet model to 10% of training data\n",
        "efficientnet_history = efficientnet_model.fit(train_data_10_percent,\n",
        "                                              epochs=5,\n",
        "                                              steps_per_epoch=len(train_data_10_percent),\n",
        "                                              validation_data=test_data,\n",
        "                                              validation_steps=len(test_data),\n",
        "                                              callbacks=[create_tensorboard_callback(\n",
        "                                                  dir_name='tensorflow_hub',\n",
        "                                                  experiment_name='efficientnetb0'\n",
        "                                              )])"
      ],
      "execution_count": 35,
      "outputs": [
        {
          "output_type": "stream",
          "name": "stdout",
          "text": [
            "Saving TensorBoard log files to : tensorflow_hub/efficientnetb0/20210920-090509/20/21\n",
            "Epoch 1/5\n",
            "24/24 [==============================] - 32s 955ms/step - loss: 1.9052 - accuracy: 0.4053 - val_loss: 1.3267 - val_accuracy: 0.7196\n",
            "Epoch 2/5\n",
            "24/24 [==============================] - 19s 798ms/step - loss: 1.0898 - accuracy: 0.7587 - val_loss: 0.8875 - val_accuracy: 0.8220\n",
            "Epoch 3/5\n",
            "24/24 [==============================] - 18s 792ms/step - loss: 0.7748 - accuracy: 0.8280 - val_loss: 0.7167 - val_accuracy: 0.8456\n",
            "Epoch 4/5\n",
            "24/24 [==============================] - 18s 790ms/step - loss: 0.6197 - accuracy: 0.8573 - val_loss: 0.6222 - val_accuracy: 0.8504\n",
            "Epoch 5/5\n",
            "24/24 [==============================] - 18s 793ms/step - loss: 0.5259 - accuracy: 0.8840 - val_loss: 0.5673 - val_accuracy: 0.8604\n"
          ]
        }
      ]
    },
    {
      "cell_type": "code",
      "metadata": {
        "colab": {
          "base_uri": "https://localhost:8080/",
          "height": 573
        },
        "id": "PRO3dRttMJ_K",
        "outputId": "be6dd5c2-0c85-497d-cc29-bb5034d41703"
      },
      "source": [
        "plot_loss_curves(efficientnet_history)"
      ],
      "execution_count": 27,
      "outputs": [
        {
          "output_type": "display_data",
          "data": {
            "image/png": "[encoded data removed]",
            "text/plain": [
              "<Figure size 432x288 with 1 Axes>"
            ]
          },
          "metadata": {
            "needs_background": "light"
          }
        },
        {
          "output_type": "display_data",
          "data": {
            "image/png": "[encoded data removed]",
            "text/plain": [
              "<Figure size 432x288 with 1 Axes>"
            ]
          },
          "metadata": {
            "needs_background": "light"
          }
        }
      ]
    },
    {
      "cell_type": "code",
      "metadata": {
        "colab": {
          "base_uri": "https://localhost:8080/"
        },
        "id": "G-heQ_YGMNSo",
        "outputId": "15dd7d8a-1168-4598-c381-2e90b3cf2771"
      },
      "source": [
        "efficientnet_model.summary()"
      ],
      "execution_count": 28,
      "outputs": [
        {
          "output_type": "stream",
          "name": "stdout",
          "text": [
            "Model: \"sequential_1\"\n",
            "_________________________________________________________________\n",
            "Layer (type)                 Output Shape              Param #   \n",
            "=================================================================\n",
            "feature_extraction_layer (Ke (None, 1280)              4049564   \n",
            "_________________________________________________________________\n",
            "output_layer (Dense)         (None, 10)                12810     \n",
            "=================================================================\n",
            "Total params: 4,062,374\n",
            "Trainable params: 12,810\n",
            "Non-trainable params: 4,049,564\n",
            "_________________________________________________________________\n"
          ]
        }
      ]
    },
    {
      "cell_type": "code",
      "metadata": {
        "colab": {
          "base_uri": "https://localhost:8080/"
        },
        "id": "yYpAPH9yNL3x",
        "outputId": "3bcf5015-2eab-43eb-e940-34de74665fc7"
      },
      "source": [
        "resnet_model.summary()"
      ],
      "execution_count": 30,
      "outputs": [
        {
          "output_type": "stream",
          "name": "stdout",
          "text": [
            "Model: \"sequential\"\n",
            "_________________________________________________________________\n",
            "Layer (type)                 Output Shape              Param #   \n",
            "=================================================================\n",
            "feature_extraction_layer (Ke (None, 2048)              23564800  \n",
            "_________________________________________________________________\n",
            "output_layer (Dense)         (None, 10)                20490     \n",
            "=================================================================\n",
            "Total params: 23,585,290\n",
            "Trainable params: 20,490\n",
            "Non-trainable params: 23,564,800\n",
            "_________________________________________________________________\n"
          ]
        }
      ]
    },
    {
      "cell_type": "code",
      "metadata": {
        "colab": {
          "base_uri": "https://localhost:8080/"
        },
        "id": "p1hnCaxPYZjR",
        "outputId": "73d4392f-5fa1-44cc-d28a-56f7717039fb"
      },
      "source": [
        "# How many layers does our efficientnetb0 feature extractor have?\n",
        "len(efficientnet_model.layers[0].weights)"
      ],
      "execution_count": 33,
      "outputs": [
        {
          "output_type": "execute_result",
          "data": {
            "text/plain": [
              "309"
            ]
          },
          "metadata": {},
          "execution_count": 33
        }
      ]
    },
    {
      "cell_type": "markdown",
      "metadata": {
        "id": "Lvxact33Nhtd"
      },
      "source": [
        "## Different types of transfer learning \n",
        "\n",
        "* **\"As is\"** transfer learning - using an existing model with no changes what so ever (e.g. using ImageNet model on 1000 ImageNet classes, none of your own)\n",
        "* **\"Feature extraction\"** transfer learning - use the prelearned patterns of an existing model (e.g. EfficienteNetB0 trained on ImageNet) and adjust the output layer for your own problem (e.g. 1000 classes -> 10 classes of food)\n",
        "* **\"Fine-tuning\"** transfer learning - use the prelearned patterns of an existing model and \"fine-tune\" many or all of the underlying layers (including new output layers)"
      ]
    },
    {
      "cell_type": "markdown",
      "metadata": {
        "id": "8JbTcI26ZzId"
      },
      "source": [
        "## Comparing our models results using TensorBoard\n",
        "\n",
        "> **Note:** When you upload things to TensorBoard.dev, you experiments are public. So of you're running private experiments (things you don't want others to see) do not upload them to TensorBoard.dev."
      ]
    },
    {
      "cell_type": "code",
      "metadata": {
        "id": "Z3u5uB8bNW99"
      },
      "source": [
        "# Upload TensorBoard dev records\n",
        "!tensorboard dev upload --logdir ./tensorflow_hub/ \\\n",
        "  --name \"EfficientNetB0 vs. ResNet50V2\" \\\n",
        "  --description \"Comparing two different TF Hub feature extraction model architecture using 10% of the training data\" \\\n",
        "  --one_shot"
      ],
      "execution_count": null,
      "outputs": []
    },
    {
      "cell_type": "markdown",
      "metadata": {
        "id": "6zkuZIIqcSSh"
      },
      "source": [
        "Our TensorBoard experiments are uploaded publically here: https://tensorboard.dev/experiment/aGNBKRidQQS96pKkFdy3yw/"
      ]
    },
    {
      "cell_type": "code",
      "metadata": {
        "colab": {
          "base_uri": "https://localhost:8080/"
        },
        "id": "I7thFZztb9Kx",
        "outputId": "602731cd-399e-4352-810c-9e9ab35d2d9f"
      },
      "source": [
        "# Check out what TensorBoard experiments you have\n",
        "!tensorboard dev list"
      ],
      "execution_count": 39,
      "outputs": [
        {
          "output_type": "stream",
          "name": "stdout",
          "text": [
            "2021-09-20 09:11:33.756349: I tensorflow/stream_executor/cuda/cuda_gpu_executor.cc:937] successful NUMA node read from SysFS had negative value (-1), but there must be at least one NUMA node, so returning NUMA node zero\n",
            "2021-09-20 09:11:33.764711: I tensorflow/stream_executor/cuda/cuda_gpu_executor.cc:937] successful NUMA node read from SysFS had negative value (-1), but there must be at least one NUMA node, so returning NUMA node zero\n",
            "2021-09-20 09:11:33.765211: I tensorflow/stream_executor/cuda/cuda_gpu_executor.cc:937] successful NUMA node read from SysFS had negative value (-1), but there must be at least one NUMA node, so returning NUMA node zero\n",
            "https://tensorboard.dev/experiment/aGNBKRidQQS96pKkFdy3yw/\n",
            "\tName                 EfficientNetB0 vs. ResNet50V2\n",
            "\tDescription          Comparing two different TF Hub feature extraction model architecture using 10% of the training data\n",
            "\tId                   aGNBKRidQQS96pKkFdy3yw\n",
            "\tCreated              2021-09-20 09:07:03 (4 minutes ago)\n",
            "\tUpdated              2021-09-20 09:07:05 (4 minutes ago)\n",
            "\tRuns                 4\n",
            "\tTags                 5\n",
            "\tScalars              60\n",
            "\tTensor bytes         0\n",
            "\tBinary object bytes  5965820\n",
            "Total: 1 experiment(s)\n"
          ]
        }
      ]
    },
    {
      "cell_type": "code",
      "metadata": {
        "id": "X3sZMGuqd8mN"
      },
      "source": [
        "# Delete an experiments\n",
        "# !tensorboard dev delete --experiment_id s2Fn4Ue2Rlm9iNILDMbM4A"
      ],
      "execution_count": 40,
      "outputs": []
    },
    {
      "cell_type": "code",
      "metadata": {
        "id": "9H9-N2yleUQc"
      },
      "source": [
        ""
      ],
      "execution_count": null,
      "outputs": []
    }
  ]
}